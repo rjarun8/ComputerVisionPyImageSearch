{
  "nbformat": 4,
  "nbformat_minor": 0,
  "metadata": {
    "colab": {
      "name": "Local Binary Pattern",
      "provenance": [],
      "collapsed_sections": [],
      "authorship_tag": "ABX9TyME1fecood8W090KRgcHDoL"
    },
    "kernelspec": {
      "name": "python3",
      "display_name": "Python 3"
    },
    "language_info": {
      "name": "python"
    },
    "accelerator": "GPU"
  },
  "cells": [
    {
      "cell_type": "code",
      "metadata": {
        "id": "eplNu86p-51H"
      },
      "source": [
        "from skimage import feature\n",
        "import numpy as np\n",
        "\n",
        "class LocalBinaryPatterns:\n",
        "\tdef __init__(self, numPoints, radius):\n",
        "\t\t# store the number of points and radius\n",
        "\t\tself.numPoints = numPoints\n",
        "\t\tself.radius = radius\n",
        "\n",
        "\tdef describe(self, image, eps=1e-7):\n",
        "\t\t# compute the Local Binary Pattern representation\n",
        "\t\t# of the image, and then use the LBP representation\n",
        "\t\t# to build the histogram of patterns\n",
        "\t\tlbp = feature.local_binary_pattern(image, self.numPoints,\n",
        "\t\t\tself.radius, method=\"uniform\")\n",
        "\t\t(hist, _) = np.histogram(lbp.ravel(),\n",
        "\t\t\tbins=np.arange(0, self.numPoints + 3),\n",
        "\t\t\trange=(0, self.numPoints + 2))\n",
        "\n",
        "\t\t# normalize the histogram\n",
        "\t\thist = hist.astype(\"float\")\n",
        "\t\thist /= (hist.sum() + eps)\n",
        "\n",
        "\t\t# return the histogram of Local Binary Patterns\n",
        "\t\treturn hist\n",
        "    \n",
        "\n",
        "    \n",
        "from sklearn.svm import LinearSVC\n",
        "from imutils import paths\n",
        "import argparse\n",
        "import cv2\n",
        "import os\n",
        "\n",
        "\n",
        "desc = LocalBinaryPatterns(24, 8)\n",
        "data = []\n",
        "labels = []\n",
        "\n",
        "for imagePath in paths.list_images(r'/content/local-binary-patterns/images/training'):\n",
        "\t# load the image, convert it to grayscale, and describe it\n",
        "\timage = cv2.imread(imagePath)\n",
        "\tgray = cv2.cvtColor(image, cv2.COLOR_BGR2GRAY)\n",
        "\thist = desc.describe(gray)\n",
        "\t# extract the label from the image path, then update the\n",
        "\t# label and data lists\n",
        "\tlabels.append(imagePath.split(os.path.sep)[-2])\n",
        "\tdata.append(hist)\n",
        "    \n",
        "    \n",
        "    \n",
        "from google.colab.patches import cv2_imshow\n",
        "for imagePath in paths.list_images(r'/content/local-binary-patterns/images/testing'):\n",
        "\t# load the image, convert it to grayscale, describe it,\n",
        "\t# and classify it\n",
        "\timage = cv2.imread(imagePath)\n",
        "\tgray = cv2.cvtColor(image, cv2.COLOR_BGR2GRAY)\n",
        "\thist = desc.describe(gray)\n",
        "\tprediction = model.predict(hist.reshape(1, -1))\n",
        "\t\n",
        "\t# display the image and the prediction\n",
        "\tcv2.putText(image, prediction[0], (10, 30), cv2.FONT_HERSHEY_SIMPLEX,\n",
        "\t\t1.0, (0, 0, 255), 3)\n",
        "\tcv2_imshow(image)\n",
        "\tcv2.waitKey(0)"
      ],
      "execution_count": null,
      "outputs": []
    }
  ]
}